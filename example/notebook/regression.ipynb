{
 "cells": [
  {
   "cell_type": "code",
   "execution_count": 1,
   "metadata": {
    "collapsed": false
   },
   "outputs": [],
   "source": [
    "%matplotlib inline\n",
    "import matplotlib.pyplot as plt\n",
    "import numpy as np\n",
    "import bayesnet as bn\n",
    "\n",
    "np.random.seed(1234)"
   ]
  },
  {
   "cell_type": "code",
   "execution_count": 2,
   "metadata": {
    "collapsed": true
   },
   "outputs": [],
   "source": [
    "x_train = np.linspace(-3, 3, 10)[:, None]\n",
    "y_train = np.cos(x_train) + np.random.normal(0, 0.1, size=x_train.shape)"
   ]
  },
  {
   "cell_type": "code",
   "execution_count": 3,
   "metadata": {
    "collapsed": true
   },
   "outputs": [],
   "source": [
    "class NeuralNetwork(bn.Network):\n",
    "    \n",
    "    def __init__(self, n_input, n_hidden, n_output):\n",
    "        super().__init__(\n",
    "            w1=np.random.randn(n_input, n_hidden),\n",
    "            b1=np.zeros(n_hidden),\n",
    "            w2=np.random.randn(n_hidden, n_output),\n",
    "            b2=np.zeros(n_output)\n",
    "        )\n",
    "\n",
    "    def __call__(self, x, y=None):\n",
    "        h = bn.tanh(x @ self.w1 + self.b1)\n",
    "        mu = h @ self.w2 + self.b2\n",
    "        self.py = bn.random.Gaussian(mu, 0.1, data=y)\n",
    "        return mu.value"
   ]
  },
  {
   "cell_type": "code",
   "execution_count": 4,
   "metadata": {
    "collapsed": false
   },
   "outputs": [],
   "source": [
    "model = NeuralNetwork(1, 20, 1)\n",
    "optimizer = bn.optimizer.Adam(model, 0.1)\n",
    "optimizer.set_decay(0.9, 100)\n",
    "\n",
    "for _ in range(10000):\n",
    "    model.clear()\n",
    "    model(x_train, y_train)\n",
    "    log_likelihood = model.log_pdf()\n",
    "    log_likelihood.backward()\n",
    "    optimizer.update()"
   ]
  },
  {
   "cell_type": "code",
   "execution_count": 5,
   "metadata": {
    "collapsed": false
   },
   "outputs": [
    {
     "data": {
      "image/png": "[encoded data removed]",
      "text/plain": [
       "<matplotlib.figure.Figure at 0x10ab474e0>"
      ]
     },
     "metadata": {},
     "output_type": "display_data"
    }
   ],
   "source": [
    "x = np.linspace(-3, 3, 1000)[:, None]\n",
    "plt.scatter(x_train, y_train)\n",
    "plt.plot(x, model(x), c=\"r\")\n",
    "plt.show()"
   ]
  },
  {
   "cell_type": "code",
   "execution_count": 6,
   "metadata": {
    "collapsed": true
   },
   "outputs": [],
   "source": [
    "class RegularizedNetwork(bn.Network):\n",
    "    \n",
    "    def __init__(self, n_input, n_hidden, n_output):\n",
    "        super().__init__(\n",
    "            w1=np.random.randn(n_input, n_hidden),\n",
    "            b1=np.zeros(n_hidden),\n",
    "            w2=np.random.randn(n_hidden, n_output),\n",
    "            b2=np.zeros(n_output)\n",
    "        )\n",
    "\n",
    "    def __call__(self, x, y=None):\n",
    "        self.pw1 = bn.random.Gaussian(0, 1, data=self.w1)\n",
    "        self.pb1 = bn.random.Gaussian(0, 1, data=self.b1)\n",
    "        self.pw2 = bn.random.Gaussian(0, 1, data=self.w2)\n",
    "        self.pb2 = bn.random.Gaussian(0, 1, data=self.b2)\n",
    "        h = bn.tanh(x @ self.w1 + self.b1)\n",
    "        mu = h @ self.w2 + self.b2\n",
    "        self.py = bn.random.Gaussian(mu, 0.1, data=y)\n",
    "        return mu.value"
   ]
  },
  {
   "cell_type": "code",
   "execution_count": 7,
   "metadata": {
    "collapsed": false
   },
   "outputs": [],
   "source": [
    "model = RegularizedNetwork(1, 20, 1)\n",
    "optimizer = bn.optimizer.Adam(model, 0.1)\n",
    "optimizer.set_decay(0.9, 100)\n",
    "\n",
    "for _ in range(10000):\n",
    "    model.clear()\n",
    "    model(x_train, y_train)\n",
    "    log_posterior = model.log_pdf()\n",
    "    log_posterior.backward()\n",
    "    optimizer.update()"
   ]
  },
  {
   "cell_type": "code",
   "execution_count": 8,
   "metadata": {
    "collapsed": false
   },
   "outputs": [
    {
     "data": {
      "image/png": "[encoded data removed]",
      "text/plain": [
       "<matplotlib.figure.Figure at 0x10ac31c18>"
      ]
     },
     "metadata": {},
     "output_type": "display_data"
    }
   ],
   "source": [
    "x = np.linspace(-3, 3, 1000)[:, None]\n",
    "plt.scatter(x_train, y_train)\n",
    "plt.plot(x, model(x), c=\"r\")\n",
    "plt.show()"
   ]
  },
  {
   "cell_type": "code",
   "execution_count": 9,
   "metadata": {
    "collapsed": true
   },
   "outputs": [],
   "source": [
    "class BayesianNetwork(bn.Network):\n",
    "    \n",
    "    def __init__(self, n_input, n_hidden, n_output):\n",
    "        super().__init__(\n",
    "            w1_mu=np.zeros((n_input, n_hidden)),\n",
    "            w1_s=np.zeros((n_input, n_hidden)),\n",
    "            b1_mu=np.zeros(n_hidden),\n",
    "            b1_s=np.zeros(n_hidden),\n",
    "            w2_mu=np.zeros((n_hidden, n_output)),\n",
    "            w2_s=np.zeros((n_hidden, n_output)),\n",
    "            b2_mu=np.zeros(n_output),\n",
    "            b2_s=np.zeros(n_output)\n",
    "        )\n",
    "\n",
    "    def __call__(self, x, y=None):\n",
    "        self.qw1 = bn.random.Gaussian(\n",
    "            self.w1_mu, bn.softplus(self.w1_s),\n",
    "            p=bn.random.Gaussian(0, 1)\n",
    "        )\n",
    "        self.qb1 = bn.random.Gaussian(\n",
    "            self.b1_mu, bn.softplus(self.b1_s),\n",
    "            p=bn.random.Gaussian(0, 1)\n",
    "        )\n",
    "        self.qw2 = bn.random.Gaussian(\n",
    "            self.w2_mu, bn.softplus(self.w2_s),\n",
    "            p=bn.random.Gaussian(0, 1)\n",
    "        )\n",
    "        self.qb2 = bn.random.Gaussian(\n",
    "            self.b2_mu, bn.softplus(self.b2_s),\n",
    "            p=bn.random.Gaussian(0, 1)\n",
    "        )\n",
    "        h = bn.tanh(x @ self.qw1.draw() + self.qb1.draw())\n",
    "        mu = h @ self.qw2.draw() + self.qb2.draw()\n",
    "        self.py = bn.random.Gaussian(mu, 0.1, data=y)\n",
    "        if y is None:\n",
    "            return self.py.draw().value"
   ]
  },
  {
   "cell_type": "code",
   "execution_count": 10,
   "metadata": {
    "collapsed": false
   },
   "outputs": [],
   "source": [
    "model = BayesianNetwork(1, 20, 1)\n",
    "optimizer = bn.optimizer.Adam(model, 0.1)\n",
    "optimizer.set_decay(0.9, 100)\n",
    "\n",
    "for _ in range(10000):\n",
    "    model.clear()\n",
    "    model(x_train, y_train)\n",
    "    elbo = model.elbo()\n",
    "    elbo.backward()\n",
    "    optimizer.update()"
   ]
  },
  {
   "cell_type": "code",
   "execution_count": 11,
   "metadata": {
    "collapsed": false
   },
   "outputs": [
    {
     "data": {
      "image/png": "[encoded data removed]",
      "text/plain": [
       "<matplotlib.figure.Figure at 0x10abc6588>"
      ]
     },
     "metadata": {},
     "output_type": "display_data"
    }
   ],
   "source": [
    "x = np.linspace(-3, 3, 1000)[:, None]\n",
    "plt.scatter(x_train, y_train)\n",
    "y = [model(x) for _ in range(100)]\n",
    "y_mean = np.mean(y, axis=0)\n",
    "y_std = np.std(y, axis=0)\n",
    "plt.plot(x, y_mean, c=\"orange\")\n",
    "plt.fill_between(x.ravel(), (y_mean - y_std).ravel(), (y_mean + y_std).ravel(), color=\"orange\", alpha=0.2)\n",
    "plt.show()"
   ]
  },
  {
   "cell_type": "code",
   "execution_count": null,
   "metadata": {
    "collapsed": true
   },
   "outputs": [],
   "source": []
  }
 ],
 "metadata": {
  "kernelspec": {
   "display_name": "Python 3",
   "language": "python",
   "name": "python3"
  },
  "language_info": {
   "codemirror_mode": {
    "name": "ipython",
    "version": 3
   },
   "file_extension": ".py",
   "mimetype": "text/x-python",
   "name": "python",
   "nbconvert_exporter": "python",
   "pygments_lexer": "ipython3",
   "version": "3.6.0"
  }
 },
 "nbformat": 4,
 "nbformat_minor": 2
}
